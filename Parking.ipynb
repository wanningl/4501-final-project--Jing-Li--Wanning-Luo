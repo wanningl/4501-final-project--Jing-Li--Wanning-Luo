{
 "cells": [
  {
   "cell_type": "code",
   "execution_count": 1,
   "id": "779607b2",
   "metadata": {},
   "outputs": [
    {
     "name": "stderr",
     "output_type": "stream",
     "text": [
      "C:\\Users\\lijing\\Anaconda3\\lib\\site-packages\\IPython\\core\\interactiveshell.py:3049: DtypeWarning: Columns (20,31,32) have mixed types.Specify dtype option on import or set low_memory=False.\n",
      "  interactivity=interactivity, compiler=compiler, result=result)\n"
     ]
    }
   ],
   "source": [
    "import pandas as pd\n",
    "data=pd.read_csv(\"311_Service_Requests_2020.csv\")\n",
    "data_10019=data[data[\"Incident Zip\"]==10019.0]"
   ]
  },
  {
   "cell_type": "code",
   "execution_count": 2,
   "id": "24c7348c",
   "metadata": {},
   "outputs": [
    {
     "data": {
      "text/plain": [
       "0.07487334365033108"
      ]
     },
     "execution_count": 2,
     "metadata": {},
     "output_type": "execute_result"
    }
   ],
   "source": [
    "por_illegal_parking=len(data[data[\"Complaint Type\"]==\"Illegal Parking\"])/len(data)\n",
    "por_illegal_parking"
   ]
  },
  {
   "cell_type": "code",
   "execution_count": 3,
   "id": "9efbe72f",
   "metadata": {},
   "outputs": [
    {
     "data": {
      "text/plain": [
       "0.0656794998354722"
      ]
     },
     "execution_count": 3,
     "metadata": {},
     "output_type": "execute_result"
    }
   ],
   "source": [
    "por_illegal_parking_10019=len(data_10019[data_10019[\"Complaint Type\"]==\"Illegal Parking\"])/len(data_10019)\n",
    "por_illegal_parking_10019"
   ]
  },
  {
   "cell_type": "code",
   "execution_count": 4,
   "id": "0e74f411",
   "metadata": {},
   "outputs": [
    {
     "data": {
      "text/plain": [
       "False"
      ]
     },
     "execution_count": 4,
     "metadata": {},
     "output_type": "execute_result"
    }
   ],
   "source": [
    "higher_parking_proportion=por_illegal_parking_10019>por_illegal_parking\n",
    "higher_parking_proportion"
   ]
  }
 ],
 "metadata": {
  "kernelspec": {
   "display_name": "Python 3",
   "language": "python",
   "name": "python3"
  },
  "language_info": {
   "codemirror_mode": {
    "name": "ipython",
    "version": 3
   },
   "file_extension": ".py",
   "mimetype": "text/x-python",
   "name": "python",
   "nbconvert_exporter": "python",
   "pygments_lexer": "ipython3",
   "version": "3.7.3"
  }
 },
 "nbformat": 4,
 "nbformat_minor": 5
}
